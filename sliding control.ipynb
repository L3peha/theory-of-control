{
  "nbformat": 4,
  "nbformat_minor": 0,
  "metadata": {
    "colab": {
      "provenance": []
    },
    "kernelspec": {
      "name": "python3",
      "display_name": "Python 3"
    },
    "language_info": {
      "name": "python"
    }
  },
  "cells": [
    {
      "cell_type": "markdown",
      "source": [
        "\n",
        "**Управление поворотом спутника с магнитным приводом с помощью метода скользящих режимов**\n"
      ],
      "metadata": {
        "id": "queRn2ftey8r"
      }
    },
    {
      "cell_type": "markdown",
      "source": [
        "В данном случае расматривается управление малым спутником с помощью взаимодействия магнитного поля, создаваемого катушкой, находящейся на этом спутнике, и магнитного поля Земли. Это задача реализуется с помощью метода скользящих режимов."
      ],
      "metadata": {
        "id": "hurhp3WbfDud"
      }
    },
    {
      "cell_type": "markdown",
      "source": [
        "Используемые системы координат:\n",
        "\n",
        "\n",
        "*   CCS - правая отогональная система координат, построенная на главных осях спутника с началом координат в центре масс. Ось х - ось с максимальным моментом инерции, ось z - ось с минимальным моментом инерции.\n",
        "*   OCS - правая ортогональная система координат с началом координат в центре масс спутника. Ось z - направлена в зенит, ось х - сонаправлена с нормалью к плоскости орбиты.\n",
        "*   WCS - инерциальная правая ортогональная система координат с началом в центре масс спутника. Ось z - параллельна оси вращения Земли и указывает на северный полюс, ось х - направлена на точку весеннего равноденствия."
      ],
      "metadata": {
        "id": "o6V76nD0w_53"
      }
    },
    {
      "cell_type": "markdown",
      "source": [
        "**Основные обозначения:**\n",
        "\n",
        "$^cv , ~^ov ,~ ^wv$ - Вектор $v$ в CCS, OCS и WCS соответственно\n",
        "\n",
        "$\\Omega_{cw}$ - угловая скорость CCS относительно WCS\n",
        "\n",
        "$\\Omega_{co}$ - угловая скорость CCS относительно OCS\n",
        "\n",
        "$\\omega_o$ - угловая скорость движения по орбите\n",
        "\n",
        "$I$ - главный тензор инерции, $I=diag([I_x~I_y~I_z]^T)$, где $I_x \\ge I_y \\ge I_z$\n",
        "\n",
        "$i_o,j_o,k_o$ - единичный вектор вдоль осей $~x,~y,~z$ в OCS\n",
        "\n",
        "$N_{ctrl}$ - управляющий момент\n",
        "\n",
        "$N_{ggl}$ - момент гравитационного градиента\n",
        "\n",
        "$N_{dis}$ - возмущающий момент\n",
        "\n",
        "$m$ - магнитный момент\n",
        "\n",
        "$B$ - вектор магнитного поля\n",
        "\n",
        "$^c_oq = [q^T~q_4]^T$ - кватернион представляющий CCS относительно OCS, где $q$ - векторная часть, $q_4$ скалярная часть\n",
        "\n",
        "$A(^c_oq)$ - матрица отношения основанная на $^c_oq$\n",
        "\n",
        "$n_{coil}$ - колличество витков катушки\n",
        "\n",
        "$A_{coil}$ - площадь катушки\n",
        "\n",
        "$i_{coil}$ - ток в катушке\n",
        "\n",
        "$s$ - значение функции целевого многообразия\n",
        "\n",
        "$S$ - целевое многообразие\n",
        "\n",
        "$E$ - единичная матрица"
      ],
      "metadata": {
        "id": "Yo2zHlf9z2KQ"
      }
    },
    {
      "cell_type": "markdown",
      "source": [
        "Динамическое уравнение движения спутника имеет вид:\n",
        "$$\\tag{1} I ~^c\\dot{\\Omega}_{cw}(t) = -^c\\Omega_{cw}(t) * I ^c\\Omega_{cw}(t) + ~^cN_{ctrl}(t) + ~^cN{gg}(t) + ~^cN_{dis}(t)$$"
      ],
      "metadata": {
        "id": "7xsPl23jB-hQ"
      }
    },
    {
      "cell_type": "markdown",
      "source": [
        "Взаимодействие геомагнитного поля с магнитным током $i(t)$ создает мангитный момент $m(t)$.\n",
        "$$\\tag{2}m(t)=n_{coil} i_{coil}(t) A_{coil}$$\n",
        "Управляющий момент, действующий на спутник, равен:\n",
        "$$\\tag{3}^cN_{ctrl}(t) = ~^cm(t) ~*~^cB(t)$$\n",
        "Гравитационный момент задется как:\n",
        "$$\\tag{4}^cN_{gg}(t)=3\\omega_o^2(~^ck_o~*~I~^ck_o)$$"
      ],
      "metadata": {
        "id": "JIEq6rTKGA6Z"
      }
    },
    {
      "cell_type": "markdown",
      "source": [
        "Кинематические уравнения получаются при раздельном интегрированири векторной и скалярной частей кватерниона $^c_oq$:\n",
        "$$\\dot{q} = \\frac{1}{2}~^c\\Omega_{co}q_4+\\frac{1}{2}~^c\\Omega_{co}*q$$\n",
        "$$\\tag{5}$$\n",
        "$$\\dot{q_4}=-\\frac{1}{2}~^c\\Omega_{co}*q$$"
      ],
      "metadata": {
        "id": "J5ZXepvLIYB1"
      }
    },
    {
      "cell_type": "markdown",
      "source": [
        "Отношение между угловой скоростью спутника в WCS и угловой скоростью в OCS имеет вид:\n",
        "$$\\tag{6}^c\\Omega_{co}=~^c\\Omega_{cw}-w_o~^ci_o$$"
      ],
      "metadata": {
        "id": "4YORJbsiaDUB"
      }
    },
    {
      "cell_type": "markdown",
      "source": [
        "В данном случае большую часть времени спутник двигается около целевой орбиты, но могут быть определенные моменты, когда спутник перестает придерживаться этой траектории, и нелинейные члены в уравнениях (1)-(6) могут стать доминирующими. Именно поэтому используется метод скользящих режимов."
      ],
      "metadata": {
        "id": "OeZebnrkY6pB"
      }
    },
    {
      "cell_type": "markdown",
      "source": [
        "Основной смысл управления будет в том, чтобы повернуть спутник так, чтобы CCS совпадала с OCS, $\\Omega_{co}$ стремилась к 0, векторная часть кватерниона $q$ стремилась к 0, а скалярная часть $q_4$ стремилась к 1. Также нужно получить многообразие, на котором система будет \"скользить\" в нужном нам направлении, и условия, при которых все будет выполняться."
      ],
      "metadata": {
        "id": "BKbXQjDEX-0X"
      }
    },
    {
      "cell_type": "markdown",
      "source": [
        "Сначала введем значение функции целевого мноорбразия $s$, которая будет задаваться уравнением:\n",
        "$$\\tag{7}s=I^c\\Omega_{co}+\\Lambda_q q$$\n",
        "Где $\\Lambda_q$ - это положительно определенная матрица."
      ],
      "metadata": {
        "id": "AWiFWIMjaDam"
      }
    },
    {
      "cell_type": "markdown",
      "source": [
        "Тогда целевое многообразие, в котором значение функции $s$ равно нулю, имеет вид:\n",
        "$$\\tag{8}S=[q,~^c\\Omega_{co}:s=0]$$"
      ],
      "metadata": {
        "id": "qP8-L5FAbHa2"
      }
    },
    {
      "cell_type": "markdown",
      "source": [
        "Значения функции целевого мноорбразия $s$ гарантирует сходимость $q$ к 0 и $q_4$ к 1. Чтобы подтвердить это рассмотрим кандидата на функцию Ляпунова:\n",
        "$$\\tag{9}v_q=q^Tq+(1-q_4)^2$$\n",
        "что является эквивалентом\n",
        "$$\\tag{10}v_q=2(1-q_4)$$\n",
        "Следовательно, $~q^Tq+q_4^2=1$"
      ],
      "metadata": {
        "id": "WXb29RV0cK3q"
      }
    },
    {
      "cell_type": "markdown",
      "source": [
        "Производная по времени кандидата в функцию ляпунова вычисляется с учетом кинематики в уравнении (5):\n",
        "$$\\tag{11}\\dot{v}^q = q^T~^c\\Omega_{co}$$\n",
        "Таким образом:\n",
        "$$\\tag{12}\\dot{v}^q = -q^TI^{-1}\\Lambda_qq$$\n",
        "Получаем, что производная от функции Ляпунова отрицательно определена, потому что $\\Lambda_q$ это положительно определенная матрица. Тогда по прямому методу Ляпунова равновесие $^c_oq = [0~0~0~1]^T,~^c\\Omega_{co}=0$ асимтотически устойчиво, если спутник находится на многообразии $S$.\n",
        "\n",
        "3-х мерная гиперповерхность (8) в 6-тимерном пространстве $[^c\\Omega_{co}^T~q^T]^T$ достаточна для описания движения спутника с помощью метода скользящих режимов."
      ],
      "metadata": {
        "id": "LKhVBPw8dKeR"
      }
    },
    {
      "cell_type": "markdown",
      "source": [
        "Цель состоит в том, чтобы повернуть траекторию спутника к целевому многообразию. Движение спутника описывается в пространстве значением\n",
        "функции целевого мноорбразия $s$. Представление движения спутника в пространстве скользящей переменной вычисляется путем дифференцирования переменной $s(t)$ по времени:\n",
        "$$\\tag{15} \\dot{s}=I^c\\dot{\\Omega}_{cw}-\\omega_o~^c\\dot{i}_o+\\Lambda_q\\dot{q}$$\n",
        "Производная угловой скорости и кватерниона отношения вычисляется в соответстивие с уравнениями (5) и (1):\n",
        "$$\\tag{16}\\dot{s} = -^c\\Omega_{cw}*I^c\\Omega_{cw} + 3\\omega_o^2~^ck_o-\\omega_oI(~^ci_o*~^c\\Omega_{co})+\\frac{1}{2}\\Lambda_q(~^c\\Omega_{co}q_4+~^c\\Omega_{co}*q)+~^cN_{ctrl}$$ "
      ],
      "metadata": {
        "id": "V33cxopIhEIh"
      }
    },
    {
      "cell_type": "markdown",
      "source": [
        "Предположим, что траектория спутника лежит на целевом многообразии. Тогда экивалентом управления будет управление, которое поддерживает спутник на многообразии. Тогда производная по времени значения функции целевого мноорбразия равна 0. Если спутник не находится на целевом многообразии, тогда управляющий момент будет равен сумме эквивалентного управления и части, которая будет занулять значение функции целевого мноорбразия:\n",
        "$$\\tag{17}N_{des}=N_{eq}-\\Lambda_ss$$\n",
        "Эквивалентный управляющий момент $N_{eq}$ будет иметь вид:\n",
        "$$\\tag{18} N_{eq} = ~^c\\Omega_{cw}*I^c\\Omega_{cw}-3\\omega_o^2(^ck_o*I^ck_o)+\\omega_oI(^ci_o*~^c\\Omega_{co})-\\frac{1}{2}\\Lambda_q(^c\\Omega_{co}q_4+~^c\\Omega_{co}*q)$$\n",
        "где $\\Lambda_s$ - положительно определенная матрица."
      ],
      "metadata": {
        "id": "T7AK91n1kN53"
      }
    },
    {
      "cell_type": "markdown",
      "source": [
        "Если управляющий момент достижим в каждом направлении желаемого управления, то $N_{des}$ в уравнении (16) можно заменить на управляющий момент $N_{ctrl}$. Тогда производная по времени от значения функции целевого мноорбразия примет вид:\n",
        "$$\\tag{19}\\dot s=-\\Lambda_ss$$\n",
        "Система, описанная дифференциальным уравнением (19), устойчива. Следовательно условие скольжения будет выполняться."
      ],
      "metadata": {
        "id": "fpdpWS7ollWj"
      }
    },
    {
      "cell_type": "code",
      "source": [
        "import numpy as np\n",
        "import scipy.integrate as sci\n",
        "import matplotlib.pyplot as plt"
      ],
      "metadata": {
        "id": "eN_XaTCt7Glt"
      },
      "execution_count": 5,
      "outputs": []
    },
    {
      "cell_type": "code",
      "source": [
        "w0 = np.sqrt(398600.4/(7350.0**3))\n",
        "def rhs_int(t, x):\n",
        "    cWcw = np.array([x[4], x[5], x[6]])\n",
        "\n",
        "\n",
        "    i = np.array([1.0,0.0,0.0])\n",
        "    k = np.array([0.0,0.0,1.0])\n",
        "    ti=2*np.cross(np.array([x[0],x[1],x[2]]),i)\n",
        "    i0=i+x[3]*ti+np.cross(np.array([x[0],x[1],x[2]]),ti)\n",
        "    tk=2*np.cross(np.array([x[0],x[1],x[2]]),k)\n",
        "    k0=k+x[3]*tk+np.cross(np.array([x[0],x[1],x[2]]),tk)\n",
        "\n",
        "    \n",
        "    cWco=cWcw-w0*i0\n",
        "    I = np.matrix([[3.4278, 0.0, 0.0],\n",
        "         [0, 2.9038, 0.0],\n",
        "         [0.0, 0.0, 1.275]])\n",
        "    I1 = np.matrix([[1.0/3.4278, 0.0, 0.0],\n",
        "         [0, 1.0/2.9038, 0.0],\n",
        "         [0.0, 0.0, 1.0/1.275]])\n",
        "    LambdaS = np.matrix([[0.003, 0.0, 0.0],\n",
        "               [0, 0.003, 0.0],\n",
        "               [0.0, 0.0, 0.003]])\n",
        "    LambdaQ = np.matrix([[0.002, 0.0, 0.0],\n",
        "               [0, 0.002, 0.0],\n",
        "               [0.0, 0.0, 0.002]])\n",
        "    \n",
        "    s = np.dot(I,cWco)+np.dot(LambdaQ,np.array([x[0],x[1],x[2]])) \n",
        "    S = np.array([s[0][0,0],\n",
        "                  s[0][0,1],\n",
        "                  s[0][0,2]])\n",
        "    Ne = np.cross(np.dot(cWcw,I),cWcw) - 3*w0*w0 * np.cross(np.dot(k0,I),k0) + w0*np.dot(I,np.cross(i0,cWco))-np.dot(LambdaQ,(cWco*x[3]+np.cross(cWco,np.array([x[0],x[1],x[2]]))))/2\n",
        "    Neq = np.array([[Ne[0,0]],[Ne[0,1]],[Ne[0,2]]])\n",
        "\n",
        "\n",
        "\n",
        "    dxdt = np.zeros(7)\n",
        "    dxdt[0] = cWco[0]*x[3]/2+np.cross(cWco,np.array([x[0],x[1],x[2]]))[0]/2\n",
        "    dxdt[1] = cWco[1]*x[3]/2+np.cross(cWco,np.array([x[0],x[1],x[2]]))[1]/2\n",
        "    dxdt[2] = cWco[2]*x[3]/2+np.cross(cWco,np.array([x[0],x[1],x[2]]))[2]/2\n",
        "    dxdt[3] = -np.dot(cWco,np.array([x[0],x[1],x[2]]))/2                           #0-3 решение уравнений кинематики\n",
        "    \n",
        "    c = [[np.cross(np.dot(cWcw,I),cWcw)[0][0]],\n",
        "     [np.cross(np.dot(cWcw,I),cWcw)[0][1]],\n",
        "     [np.cross(np.dot(cWcw,I),cWcw)[0][2]]]\n",
        "\n",
        "    temp = np.cross(np.dot(k0,I),k0)\n",
        "    temp1 = np.array([[temp[0,0]],\n",
        "                      [temp[0,1]],\n",
        "                      [temp[0,2]]])\n",
        "    temp = np.dot(LambdaS,S)\n",
        "    temp2 = np.array([[temp[0,0]],\n",
        "                      [temp[0,1]],\n",
        "                      [temp[0,2]]])  \n",
        "     \n",
        "    dxdt[4] = -np.dot(I1,c)[0]+np.dot(I1,Neq)[0]+3*w0*w0*np.dot(I1,temp1)[0]-np.dot(I1,temp2)[0]   #4-6 решение уравнений динамики\n",
        "    dxdt[5] = -np.dot(I1,c)[1]+np.dot(I1,Neq)[1]+3*w0*w0*np.dot(I1,temp1)[1]-np.dot(I1,temp2)[1]\n",
        "    dxdt[6] = -np.dot(I1,c)[2]+np.dot(I1,Neq)[2]+3*w0*w0*np.dot(I1,temp1)[2]-np.dot(I1,temp2)[2]\n",
        "\n",
        "    return dxdt\n",
        "\n"
      ],
      "metadata": {
        "id": "6U1m5GdHL3Jk"
      },
      "execution_count": 6,
      "outputs": []
    },
    {
      "cell_type": "code",
      "source": [
        "x0  = [-0.7, -0.2, -0.1, 0.6, -0.002, 0.002, 0.002]\n",
        "\n",
        "t0 = 0\n",
        "ts = 1\n",
        "tf = 20000\n",
        "t_sol = np.arange(t0, tf, ts)\n",
        "\n",
        "\n",
        "\n",
        "sol_dbl_int = sci.solve_ivp(rhs_int, [t0, tf], x0, t_eval = t_sol)\n",
        "\n",
        "x_sol = sol_dbl_int.y.T\n"
      ],
      "metadata": {
        "id": "enN7VJB-MTP3"
      },
      "execution_count": 7,
      "outputs": []
    },
    {
      "cell_type": "code",
      "source": [
        "fig = plt.figure()\n",
        "ax = fig.add_subplot()\n",
        "plt.plot(t_sol, x_sol[:, 0], label='q1')\n",
        "plt.plot(t_sol, x_sol[:, 1], label='q2')\n",
        "plt.plot(t_sol, x_sol[:, 2], label='q3')\n",
        "plt.plot(t_sol, x_sol[:, 3], label='q4')\n",
        "fig.suptitle('Attitude quternion', fontsize=14, fontweight='bold')\n",
        "ax.set_xlabel('time(sec)')\n",
        "plt.legend()\n",
        "plt.grid()\n",
        "plt.show()\n"
      ],
      "metadata": {
        "id": "xXz5PIonkR2n",
        "colab": {
          "base_uri": "https://localhost:8080/",
          "height": 308
        },
        "outputId": "88aec20d-fd8a-40fc-edd1-9b9fc70b5e8a"
      },
      "execution_count": 8,
      "outputs": [
        {
          "output_type": "display_data",
          "data": {
            "text/plain": [
              "<Figure size 432x288 with 1 Axes>"
            ],
            "image/png": "[encoded data removed]"
          },
          "metadata": {
            "needs_background": "light"
          }
        }
      ]
    },
    {
      "cell_type": "code",
      "source": [
        "w = np.full((20000,1),w0)\n",
        "fig = plt.figure()\n",
        "ax = fig.add_subplot()\n",
        "plt.plot(t_sol, x_sol[:, 4], label='W_cw1')\n",
        "plt.plot(t_sol, x_sol[:, 5], label='W_cw2')\n",
        "plt.plot(t_sol, x_sol[:, 6], label='W_cw3')\n",
        "plt.plot(t_sol,w,'--',label='w0')\n",
        "fig.suptitle('Angular velocity', fontsize=14, fontweight='bold')\n",
        "ax.set_xlabel('time(sec)')\n",
        "ax.set_ylabel('Angular velocity (rad/sec)')\n",
        "plt.legend()\n",
        "plt.grid()\n",
        "plt.show()\n"
      ],
      "metadata": {
        "id": "nDdTN1hhlTZp",
        "colab": {
          "base_uri": "https://localhost:8080/",
          "height": 308
        },
        "outputId": "2a3e5dbe-b540-41d2-951d-3d7d918e7f43"
      },
      "execution_count": 9,
      "outputs": [
        {
          "output_type": "display_data",
          "data": {
            "text/plain": [
              "<Figure size 432x288 with 1 Axes>"
            ],
            "image/png": "[encoded data removed]"
          },
          "metadata": {
            "needs_background": "light"
          }
        }
      ]
    }
  ]
}