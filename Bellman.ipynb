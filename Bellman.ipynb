{
  "nbformat": 4,
  "nbformat_minor": 0,
  "metadata": {
    "colab": {
      "name": "Merzljakov B03-902.ipynb",
      "provenance": []
    },
    "kernelspec": {
      "name": "python3",
      "display_name": "Python 3"
    },
    "language_info": {
      "name": "python"
    }
  },
  "cells": [
    {
      "cell_type": "markdown",
      "source": [
        "В задаче нужно найти оптимальное управление, с помощью уравнения Беллмана. Т.е. нужно найти функцию $V(x,t)$ в уравнении:\n",
        "$$\\frac{\\partial V}{\\partial t} + {\\underset{u(t)}{max}}[I(x,u,t)+\\frac{\\partial V}{\\partial x}*f(x,u,t)]=0$$\n",
        "$$V(x(t_1),t_1)=0$$\n",
        "В данной задаче $\\frac{\\partial V}{\\partial t} = 0$ так как время не фиксированное"
      ],
      "metadata": {
        "id": "B7oxPtQYSW6s"
      }
    },
    {
      "cell_type": "markdown",
      "source": [
        "При\n",
        "$$u(t) \\in U \\;\\;\\;\\;\\;\\;\\; \\dot{x} = f(x,u,t)$$"
      ],
      "metadata": {
        "id": "b1HjaujTT1XN"
      }
    },
    {
      "cell_type": "markdown",
      "source": [
        "Так как это задача о минимальном времени перехода, то функционал будет иметь вид:\n",
        "$$-\\int\\limits_{t_0}^{t_1}1dt → {\\underset{u}{max}}$$"
      ],
      "metadata": {
        "id": "rZQJalixVr0b"
      }
    },
    {
      "cell_type": "markdown",
      "source": [
        "Динамика системы описывается следующими уравнениями:\n",
        "$$\\dot{x_1} = W*\\cos{x_3}$$\n",
        "$$\\dot{x_2} = W*\\sin{x_3}$$\n",
        "$$\\dot{x_3} = u$$"
      ],
      "metadata": {
        "id": "2ELIW1hgZNo1"
      }
    },
    {
      "cell_type": "markdown",
      "source": [
        "Величина скорости имеет вид:\n",
        "$$W=W_0*\\sqrt{1+(\\frac{x_2}{a})^{2}}$$"
      ],
      "metadata": {
        "id": "wcNJyxKAacJj"
      }
    },
    {
      "cell_type": "markdown",
      "source": [
        "Тогда найдем структуру оптимального уравнения, из выражения в квадратных скобках, в уравнении Беллмана:\n",
        "$$-1+\\frac{\\partial V}{\\partial x_1}*W\\cos{x_3} + \\frac{\\partial V}{\\partial x_2}*W\\sin{x_3}+\\frac{\\partial V}{\\partial x_3}*u = 0$$"
      ],
      "metadata": {
        "id": "TFzckUi6fWuM"
      }
    },
    {
      "cell_type": "markdown",
      "source": [
        "Найдем структуру оптимального управления из условия максимума в уравнении Беллмана, тогда получим:\n",
        "$$u=u_{max}*sign{\\frac{\\partial V}{\\partial x_3}} $$"
      ],
      "metadata": {
        "id": "bV9ueZ-Eg9pe"
      }
    },
    {
      "cell_type": "markdown",
      "source": [
        "В нашей задаче управление это производная от угла поворота, т.е. $u$ может принимать только значения -1,0,1."
      ],
      "metadata": {
        "id": "HHmEHl8iWB9o"
      }
    },
    {
      "cell_type": "markdown",
      "source": [
        "Подставим тогда $u$ в уравнение выше, получим:\n",
        "$$-1+\\frac{\\partial V}{\\partial x_1}*W\\cos{x_3} + \\frac{\\partial V}{\\partial x_2}*W\\sin{x_3}+|\\frac{\\partial V}{\\partial x_3}|*u_{max} = 0 \\tag{1}$$"
      ],
      "metadata": {
        "id": "PsdcQ3biWsuE"
      }
    },
    {
      "cell_type": "markdown",
      "source": [
        "Найдем из этого уравнения функцию $V$. Положим что:\n",
        "$$\\frac{\\partial V}{\\partial x_1} = \\pm\\sin{x_3} $$\n",
        "\n",
        "$$\\frac{\\partial V}{\\partial x_2} = \\mp\\cos{x_3} $$ \n"
      ],
      "metadata": {
        "id": "iR9IvQ3JKO8i"
      }
    },
    {
      "cell_type": "markdown",
      "source": [
        "Проинтегрируем эти выражения, тогда получится(для определенности берем со знаками + и - соответсвенно):\n",
        "$$V =  - x_1*\\cos{x_3} + C_1(x_2,x_3)$$\n",
        "\n",
        "$$V = x_2*\\sin{x_3} + C_2(x_1,x_3)$$\n"
      ],
      "metadata": {
        "id": "ilxu36rtT2M7"
      }
    },
    {
      "cell_type": "markdown",
      "source": [
        "Тогда получаем для $V$:\n",
        "$$V = -x_1\\cos{x_3}+x_2\\sin{x_3}+B(x_3) \\tag{2}$$\n",
        "Если подставим это в уравнение (1), тогда получим:\n",
        "$$|\\frac{\\partial V}{\\partial x_3}| = 1$$"
      ],
      "metadata": {
        "id": "_T3LiriTVPAy"
      }
    },
    {
      "cell_type": "markdown",
      "source": [
        "Из этого можем продиференцировать (2) и должна получится 1, имеем:\n",
        "$$|x_1\\sin{x_3}+x_2\\cos{x_3}+B'| = 1$$\n",
        "Можем проинтегрировать это выражение чтобы получить значение $B(x_3)$:\n",
        "$$B(x_3) = x_1\\cos{x_3} - x_2sin{x_3} \\pm x_3 \\tag{3}$$"
      ],
      "metadata": {
        "id": "ROtgdIaKXa4l"
      }
    },
    {
      "cell_type": "markdown",
      "source": [
        "Если подставить (3) в (2), то мы получим функцию $V$:\n",
        "\n",
        "\\begin{equation*}\n",
        " \\begin{cases}\n",
        "  V = x_3, x_3> 0\n",
        "   \\\\\n",
        "   V=2*(-x_1\\cos{x_3}+x_2\\sin{x_3}) - x_3, x_3 < 0\n",
        "   \\\\\n",
        "  \\end{cases}\n",
        "\\end{equation*}\n"
      ],
      "metadata": {
        "id": "_c1B2m9QYg-A"
      }
    },
    {
      "cell_type": "markdown",
      "source": [
        "Тогда оптимальное уравнение будет иметь вид:\n",
        "$$u=\\begin{equation*}\n",
        " \\begin{cases}\n",
        "  u_{max}, x_3> 0\n",
        "   \\\\\n",
        "   0,x_3=0\n",
        "   \\\\\n",
        "   -u_{max},x_3< 0\n",
        "  \\end{cases}\n",
        "\\end{equation*}$$"
      ],
      "metadata": {
        "id": "QU8GA3SrbJGr"
      }
    },
    {
      "cell_type": "code",
      "source": [
        "import matplotlib.pyplot as plt\n",
        "import math\n",
        "import numpy as np\n",
        "from enum import Enum\n",
        "\n",
        "\n",
        "class Param:\n",
        "    def __init__(self, p_init, seg_final, turn_radius):\n",
        "        self.p_init = p_init\n",
        "        self.seg_final = seg_final\n",
        "        self.turn_radius = turn_radius\n",
        "        self.type = 0\n",
        "\n",
        "class Trajectory:\n",
        "    def __init__(self, x, y):\n",
        "        self.x = x\n",
        "        self.y = y\n",
        "\n",
        "\n",
        "def calcPath(pt1, pt2, curvature): \n",
        "    # pt1 - координаты начальной точки траектории\n",
        "    # pt2 - координаты конечной точки траектории\n",
        "    # curvature - допустимая кривизная дуги\n",
        " \n",
        "    param = Param(pt1, 0, 0) # массив параметров траектории\n",
        "    tz = [0, 0, 0, 0, 0, 0] # массив длин первых участков\n",
        "    pz = [0, 0, 0, 0, 0, 0] # массив длин вторых участков\n",
        "    qz = [0, 0, 0, 0, 0, 0] # массив длин третьих участков\n",
        "    param.seg_final = [0, 0, 0] # массив концов (по времени) каждого из сегментов\n",
        "    \n",
        "    #углы ориентации в граничных точках\n",
        "    theta1 = np.deg2rad(pt1[2])\n",
        "    theta2 = np.deg2rad(pt2[2])\n",
        "    \n",
        "    param.turn_radius = 1/curvature\n",
        "    dx = pt2[0] - pt1[0] # общая разница по x\n",
        "    dy = pt2[1] - pt1[1] # общая разница по y\n",
        "    \n",
        "    D = math.sqrt(dx*dx + dy*dy)\n",
        "    d = D/param.turn_radius #нормализация по радиусу поворота\n",
        "\n",
        "    # Углы, необходимые для расчета траекторий\n",
        "    phi = math.atan2(dy,dx) % (2*math.pi)\n",
        "    alpha = (theta1 - phi) % (2*math.pi)\n",
        "    beta  = (theta2 - phi) % (2*math.pi)\n",
        "    \n",
        "    best_word = -1\n",
        "    best_length = -1\n",
        "\n",
        "    tz[0], pz[0], qz[0] = LSL(alpha,beta,d)\n",
        "    tz[1], pz[1], qz[1] = LSR(alpha,beta,d)\n",
        "    tz[2], pz[2], qz[2] = RSL(alpha,beta,d)\n",
        "    tz[3], pz[3], qz[3] = RSR(alpha,beta,d)\n",
        "    tz[4], pz[4], qz[4] = RLR(alpha,beta,d)\n",
        "    tz[5], pz[5], qz[5] = LRL(alpha,beta,d)\n",
        "\n",
        "    # выбираем самый короткий\n",
        "    for x in range(6):\n",
        "        if(tz[x]!=-1): # проверка на возможность такой компоизиции\n",
        "            length = tz[x] + pz[x] + qz[x]\n",
        "            if(length<best_length or best_length==-1):\n",
        "                best_word = x+1\n",
        "                best_length = length\n",
        "                param.seg_final = [tz[x],pz[x],qz[x]]\n",
        "\n",
        "    param.type = TurnType(best_word)\n",
        "    return (param, length)\n",
        "\n",
        "def scheme_traj(param):\n",
        "    x = 0\n",
        "    i = 0\n",
        "    length = int((param.seg_final[0]+param.seg_final[1]+param.seg_final[2])*param.turn_radius)\n",
        "\n",
        "    path = -1 * np.ones((length,3))\n",
        "\n",
        "    while x < length:\n",
        "        path[i] = calc_path(param,x)\n",
        "        x += 1\n",
        "        i+=1\n",
        "    return path #массив концов каждого из сегментов \n",
        "\n",
        "class TurnType(Enum):\n",
        "    LSL = 1\n",
        "    LSR = 2\n",
        "    RSL = 3\n",
        "    RSR = 4\n",
        "    RLR = 5\n",
        "    LRL = 6\n",
        "\n",
        "\n",
        "def calc_path(param, t): # вычисление конца траектории\n",
        "\n",
        "    t_rad = t/param.turn_radius # для удобства вычислений\n",
        "    p_init = np.array([0,0, np.deg2rad(param.p_init[2])])\n",
        "    L_SEG = 1\n",
        "    R_SEG = 2\n",
        "    S_SEG = 3\n",
        "    DIRDATA = np.array([[L_SEG,S_SEG,L_SEG],[L_SEG,S_SEG,R_SEG],[R_SEG,S_SEG,L_SEG],\\\n",
        "                        [R_SEG,S_SEG,R_SEG],[R_SEG,L_SEG,R_SEG],[L_SEG,R_SEG,L_SEG]])\n",
        "    #\n",
        "    types = DIRDATA[param.type.value-1][:]\n",
        "    param1 = param.seg_final[0]\n",
        "    param2 = param.seg_final[1]\n",
        "    mid_pt1 = calc_segment(param1,p_init,types[0])\n",
        "    mid_pt2 = calc_segment(param2,mid_pt1,types[1])\n",
        "\n",
        "    if(t_rad<param1):\n",
        "        end_pt = calc_segment(t_rad,p_init,types[0])\n",
        "    elif(t_rad<(param1+param2)):\n",
        "        end_pt = calc_segment(t_rad-param1,mid_pt1,types[1])\n",
        "    else:\n",
        "        end_pt = calc_segment(t_rad-param1-param2, mid_pt2, types[2])\n",
        "\n",
        "    end_pt[0] = end_pt[0] * param.turn_radius + param.p_init[0]\n",
        "    end_pt[1] = end_pt[1] * param.turn_radius + param.p_init[1]\n",
        "    end_pt[2] = end_pt[2] % (2*math.pi)\n",
        "\n",
        "    return end_pt\n",
        "\n",
        "\n",
        "def calc_segment(seg_param, seg_init, seg_type): #применение оператора\n",
        "    L_SEG = 1\n",
        "    R_SEG = 2\n",
        "    S_SEG = 3\n",
        "    seg_end = np.array([0.0,0.0,0.0])\n",
        "    if( seg_type == L_SEG ):\n",
        "        seg_end[0] = seg_init[0] + math.sin(seg_init[2]+seg_param) - math.sin(seg_init[2])\n",
        "        seg_end[1] = seg_init[1] - math.cos(seg_init[2]+seg_param) + math.cos(seg_init[2])\n",
        "        seg_end[2] = seg_init[2] + seg_param\n",
        "    elif( seg_type == R_SEG ):\n",
        "        seg_end[0] = seg_init[0] - math.sin(seg_init[2]-seg_param) + math.sin(seg_init[2])\n",
        "        seg_end[1] = seg_init[1] + math.cos(seg_init[2]-seg_param) - math.cos(seg_init[2])\n",
        "        seg_end[2] = seg_init[2] - seg_param\n",
        "    elif( seg_type == S_SEG ):\n",
        "        seg_end[0] = seg_init[0] + math.cos(seg_init[2]) * seg_param\n",
        "        seg_end[1] = seg_init[1] + math.sin(seg_init[2]) * seg_param\n",
        "        seg_end[2] = seg_init[2]\n",
        "\n",
        "    return seg_end   \n",
        "\n",
        "# вычисление композиций\n",
        "def LSL(alpha, beta, d):\n",
        "    tmp0 = d + math.sin(alpha) - math.sin(beta)\n",
        "    tmp1 = math.atan2((math.cos(beta)-math.cos(alpha)),tmp0)\n",
        "    p_squared = 2 + d*d - (2*math.cos(alpha-beta)) + (2*d*(math.sin(alpha)-math.sin(beta)))\n",
        "    if p_squared<0:\n",
        "        p=-1\n",
        "        q=-1\n",
        "        t=-1\n",
        "    else:\n",
        "        t = (tmp1-alpha) % (2*math.pi)\n",
        "        p = math.sqrt(p_squared)\n",
        "        q = (beta - tmp1) % (2*math.pi)\n",
        "    return t, p, q\n",
        "\n",
        "def RSR(alpha, beta, d):\n",
        "    tmp0 = d - math.sin(alpha) + math.sin(beta)\n",
        "    tmp1 = math.atan2((math.cos(alpha)-math.cos(beta)),tmp0)\n",
        "    p_squared = 2 + d*d - (2*math.cos(alpha-beta)) + 2*d*(math.sin(beta)-math.sin(alpha))\n",
        "    if p_squared<0:\n",
        "        p=-1\n",
        "        q=-1\n",
        "        t=-1\n",
        "    else:\n",
        "        t = (alpha - tmp1 ) % (2*math.pi)\n",
        "        p = math.sqrt(p_squared)\n",
        "        q = (-1*beta + tmp1) % (2*math.pi)\n",
        "    return t, p, q\n",
        "\n",
        "def RSL(alpha,beta,d):\n",
        "    tmp0      = d - math.sin(alpha) - math.sin(beta)\n",
        "    p_squared = -2 + d*d + 2*math.cos(alpha-beta) - 2*d*(math.sin(alpha) + math.sin(beta))\n",
        "    if p_squared<0:\n",
        "        p=-1\n",
        "        q=-1\n",
        "        t=-1\n",
        "    else:\n",
        "        p = math.sqrt(p_squared)\n",
        "        tmp2 = math.atan2((math.cos(alpha)+math.cos(beta)),tmp0) - math.atan2(2,p)\n",
        "        t = (alpha - tmp2) % (2*math.pi)\n",
        "        q = (beta - tmp2) % (2*math.pi)\n",
        "    return t, p, q\n",
        "\n",
        "def LSR(alpha, beta, d):\n",
        "    tmp0      = d + math.sin(alpha) + math.sin(beta)\n",
        "    p_squared = -2 + d*d + 2*math.cos(alpha-beta) + 2*d*(math.sin(alpha) + math.sin(beta))\n",
        "    if p_squared<0:\n",
        "        p=-1\n",
        "        q=-1\n",
        "        t=-1\n",
        "    else:\n",
        "        p = math.sqrt(p_squared)\n",
        "        tmp2 = math.atan2((-1*math.cos(alpha)-math.cos(beta)),tmp0) - math.atan2(-2,p)\n",
        "        t = (tmp2 - alpha) % (2*math.pi)\n",
        "        q = (tmp2 - beta) % (2*math.pi)\n",
        "    return t, p, q\n",
        "\n",
        "def RLR(alpha, beta, d):\n",
        "    tmp_rlr = (6 - d*d + 2*math.cos(alpha-beta) + 2*d*(math.sin(alpha)-math.sin(beta)))/8\n",
        "    if(abs(tmp_rlr)>1):\n",
        "        p=-1\n",
        "        q=-1\n",
        "        t=-1\n",
        "    else:\n",
        "        p = (2*math.pi - math.acos(tmp_rlr)) % (2*math.pi)\n",
        "        t = (alpha - math.atan2((math.cos(alpha)-math.cos(beta)), d-math.sin(alpha)+math.sin(beta)) + p/2 % (2*math.pi)) % (2*math.pi)\n",
        "        q = (alpha - beta - t + (p % (2*math.pi))) % (2*math.pi)\n",
        "\n",
        "    return t, p, q\n",
        "\n",
        "def LRL(alpha, beta, d):\n",
        "    tmp_lrl = (6 - d*d + 2*math.cos(alpha-beta) + 2*d*(-1*math.sin(alpha)+math.sin(beta)))/8\n",
        "    if(abs(tmp_lrl)>1):\n",
        "        p=-1\n",
        "        q=-1\n",
        "        t=-1\n",
        "    else:\n",
        "        p = (2*math.pi - math.acos(tmp_lrl)) % (2*math.pi)\n",
        "        t = (-1*alpha - math.atan2((math.cos(alpha)-math.cos(beta)), d+math.sin(alpha)-math.sin(beta)) + p/2) % (2*math.pi)\n",
        "        q = ((beta % (2*math.pi))-alpha-t+(p % (2*math.pi))) % (2*math.pi)\n",
        "\n",
        "    return t, p, q"
      ],
      "metadata": {
        "id": "HLTAcNtdcUNY"
      },
      "execution_count": 42,
      "outputs": []
    },
    {
      "cell_type": "code",
      "source": [
        "# Граничные точки задачи в формате:\n",
        "# [x, y, theta (в градусах)]\n",
        "\n",
        "\n",
        "pt0 = [110,20,180]\n",
        "ptf = [0,0,90]\n",
        "\n",
        "curvature = 0.05\n",
        "\n",
        "param, T = calcPath(pt0, ptf, curvature)\n",
        "path = scheme_traj(param)\n",
        "\n",
        "fig = plt.figure(figsize=(8,8))\n",
        "\n",
        "plt.plot(pt0[0],pt0[1],'kx')\n",
        "plt.plot(ptf[0],ptf[1],'kx')\n",
        "plt.plot(path[:,0],path[:,1],'k')\n",
        "plt.grid(True)\n",
        "plt.axis(\"equal\")\n",
        "plt.title('Оптимальный путь')\n",
        "plt.xlabel('X')\n",
        "plt.ylabel('Y')\n",
        "\n",
        "plt.show()\n",
        "print('Оптимальное время: ', round(T*param.turn_radius,2),'сек')"
      ],
      "metadata": {
        "colab": {
          "base_uri": "https://localhost:8080/",
          "height": 530
        },
        "id": "mrX4IWqQcZwm",
        "outputId": "460f1ca9-3d8e-4ad2-9a3b-8be171b4f499"
      },
      "execution_count": 43,
      "outputs": [
        {
          "output_type": "display_data",
          "data": {
            "text/plain": [
              "<Figure size 576x576 with 1 Axes>"
            ],
            "image/png": "[encoded data removed]"
          },
          "metadata": {
            "needs_background": "light"
          }
        },
        {
          "output_type": "stream",
          "name": "stdout",
          "text": [
            "Оптимальное время:  255.57 сек\n"
          ]
        }
      ]
    },
    {
      "cell_type": "code",
      "source": [
        "U = []\n",
        "for symb in param.type.name:\n",
        "    if symb == 'R':\n",
        "        U.append(-1)\n",
        "    if symb == 'L':\n",
        "        U.append(1)\n",
        "    if symb == 'S':\n",
        "        U.append(0)\n",
        "\n",
        "u = np.array([])\n",
        "for i in range(3):\n",
        "    u_i = U[i]*np.ones(round(param.seg_final[i] * param.turn_radius))\n",
        "    u = np.append(u,u_i)\n",
        "  \n",
        "fig = plt.figure(figsize=(8,8))\n",
        "       \n",
        "plt.plot(np.linspace(0,len(u)-1,len(u)),u,'b-')\n",
        "plt.grid(True)\n",
        "plt.title('Управление')\n",
        "plt.xlabel('t,сек')\n",
        "plt.ylabel('u,рад/сек')\n",
        "\n",
        "plt.show()\n"
      ],
      "metadata": {
        "colab": {
          "base_uri": "https://localhost:8080/",
          "height": 513
        },
        "id": "w_JJpzOhceHo",
        "outputId": "491ce300-6c69-4cc8-e59c-ec72f900984e"
      },
      "execution_count": 44,
      "outputs": [
        {
          "output_type": "display_data",
          "data": {
            "text/plain": [
              "<Figure size 576x576 with 1 Axes>"
            ],
            "image/png": "[encoded data removed]"
          },
          "metadata": {
            "needs_background": "light"
          }
        }
      ]
    }
  ]
}